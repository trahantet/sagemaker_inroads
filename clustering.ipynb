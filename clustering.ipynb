{
 "cells": [
  {
   "cell_type": "code",
   "execution_count": 26,
   "metadata": {
    "scrolled": true
   },
   "outputs": [
    {
     "name": "stdout",
     "output_type": "stream",
     "text": [
      "Requirement already satisfied: gensim in /home/ec2-user/anaconda3/envs/python3/lib/python3.6/site-packages (3.8.3)\n",
      "Requirement already satisfied: scipy>=0.18.1 in /home/ec2-user/anaconda3/envs/python3/lib/python3.6/site-packages (from gensim) (1.4.1)\n",
      "Requirement already satisfied: numpy>=1.11.3 in /home/ec2-user/anaconda3/envs/python3/lib/python3.6/site-packages (from gensim) (1.18.1)\n",
      "Requirement already satisfied: six>=1.5.0 in /home/ec2-user/anaconda3/envs/python3/lib/python3.6/site-packages (from gensim) (1.14.0)\n",
      "Requirement already satisfied: smart-open>=1.8.1 in /home/ec2-user/anaconda3/envs/python3/lib/python3.6/site-packages (from gensim) (2.1.0)\n",
      "Requirement already satisfied: requests in /home/ec2-user/anaconda3/envs/python3/lib/python3.6/site-packages (from smart-open>=1.8.1->gensim) (2.23.0)\n",
      "Requirement already satisfied: boto in /home/ec2-user/anaconda3/envs/python3/lib/python3.6/site-packages (from smart-open>=1.8.1->gensim) (2.49.0)\n",
      "Requirement already satisfied: boto3 in /home/ec2-user/anaconda3/envs/python3/lib/python3.6/site-packages (from smart-open>=1.8.1->gensim) (1.14.42)\n",
      "Requirement already satisfied: certifi>=2017.4.17 in /home/ec2-user/anaconda3/envs/python3/lib/python3.6/site-packages (from requests->smart-open>=1.8.1->gensim) (2020.6.20)\n",
      "Requirement already satisfied: idna<3,>=2.5 in /home/ec2-user/anaconda3/envs/python3/lib/python3.6/site-packages (from requests->smart-open>=1.8.1->gensim) (2.9)\n",
      "Requirement already satisfied: urllib3!=1.25.0,!=1.25.1,<1.26,>=1.21.1 in /home/ec2-user/anaconda3/envs/python3/lib/python3.6/site-packages (from requests->smart-open>=1.8.1->gensim) (1.25.8)\n",
      "Requirement already satisfied: chardet<4,>=3.0.2 in /home/ec2-user/anaconda3/envs/python3/lib/python3.6/site-packages (from requests->smart-open>=1.8.1->gensim) (3.0.4)\n",
      "Requirement already satisfied: jmespath<1.0.0,>=0.7.1 in /home/ec2-user/anaconda3/envs/python3/lib/python3.6/site-packages (from boto3->smart-open>=1.8.1->gensim) (0.9.4)\n",
      "Requirement already satisfied: botocore<1.18.0,>=1.17.42 in /home/ec2-user/anaconda3/envs/python3/lib/python3.6/site-packages (from boto3->smart-open>=1.8.1->gensim) (1.17.42)\n",
      "Requirement already satisfied: s3transfer<0.4.0,>=0.3.0 in /home/ec2-user/anaconda3/envs/python3/lib/python3.6/site-packages (from boto3->smart-open>=1.8.1->gensim) (0.3.3)\n",
      "Requirement already satisfied: python-dateutil<3.0.0,>=2.1 in /home/ec2-user/anaconda3/envs/python3/lib/python3.6/site-packages (from botocore<1.18.0,>=1.17.42->boto3->smart-open>=1.8.1->gensim) (2.8.1)\n",
      "Requirement already satisfied: docutils<0.16,>=0.10 in /home/ec2-user/anaconda3/envs/python3/lib/python3.6/site-packages (from botocore<1.18.0,>=1.17.42->boto3->smart-open>=1.8.1->gensim) (0.15.2)\n",
      "\u001b[33mWARNING: You are using pip version 20.0.2; however, version 20.2.2 is available.\n",
      "You should consider upgrading via the '/home/ec2-user/anaconda3/envs/python3/bin/python -m pip install --upgrade pip' command.\u001b[0m\n"
     ]
    }
   ],
   "source": [
    "import boto3\n",
    "import pickle\n",
    "import pandas as pd\n",
    "from io import StringIO\n",
    "import io\n",
    "\n",
    "!pip install gensim\n",
    "from gensim.models.word2vec import Word2Vec\n",
    "from sklearn.cluster import KMeans;\n",
    "from sklearn.neighbors import KDTree\n",
    "import numpy as np"
   ]
  },
  {
   "cell_type": "code",
   "execution_count": 27,
   "metadata": {},
   "outputs": [
    {
     "data": {
      "text/plain": [
       "(10061, 302)"
      ]
     },
     "execution_count": 27,
     "metadata": {},
     "output_type": "execute_result"
    }
   ],
   "source": [
    "s3 = boto3.client('s3')\n",
    "\n",
    "object = s3.get_object(Bucket='inroads-test-bucket1',Key='data/Vectorized/inroads_vectorized.csv')\n",
    "inroads_vectorized = pd.read_csv(io.BytesIO(object['Body'].read()), encoding='utf8', index_col=0)\n",
    "\n",
    "inroads_vectorized=inroads_vectorized.rename(columns = {'tokens':'token'})\n",
    "\n",
    "inroads_vectorized.shape"
   ]
  },
  {
   "cell_type": "code",
   "execution_count": 28,
   "metadata": {},
   "outputs": [
    {
     "data": {
      "text/plain": [
       "(941, 302)"
      ]
     },
     "execution_count": 28,
     "metadata": {},
     "output_type": "execute_result"
    }
   ],
   "source": [
    "s3 = boto3.client('s3')\n",
    "\n",
    "object = s3.get_object(Bucket='inroads-test-bucket1',Key='data/Vectorized/old_vectorized.csv')\n",
    "old_vectorized = pd.read_csv(io.BytesIO(object['Body'].read()), encoding='utf8', index_col=0)\n",
    "\n",
    "old_vectorized.shape"
   ]
  },
  {
   "cell_type": "code",
   "execution_count": 5,
   "metadata": {
    "scrolled": true
   },
   "outputs": [
    {
     "data": {
      "text/html": [
       "<div>\n",
       "<style scoped>\n",
       "    .dataframe tbody tr th:only-of-type {\n",
       "        vertical-align: middle;\n",
       "    }\n",
       "\n",
       "    .dataframe tbody tr th {\n",
       "        vertical-align: top;\n",
       "    }\n",
       "\n",
       "    .dataframe thead th {\n",
       "        text-align: right;\n",
       "    }\n",
       "</style>\n",
       "<table border=\"1\" class=\"dataframe\">\n",
       "  <thead>\n",
       "    <tr style=\"text-align: right;\">\n",
       "      <th></th>\n",
       "      <th>token</th>\n",
       "      <th>vector</th>\n",
       "      <th>0</th>\n",
       "      <th>1</th>\n",
       "      <th>2</th>\n",
       "      <th>3</th>\n",
       "      <th>4</th>\n",
       "      <th>5</th>\n",
       "      <th>6</th>\n",
       "      <th>7</th>\n",
       "      <th>...</th>\n",
       "      <th>290</th>\n",
       "      <th>291</th>\n",
       "      <th>292</th>\n",
       "      <th>293</th>\n",
       "      <th>294</th>\n",
       "      <th>295</th>\n",
       "      <th>296</th>\n",
       "      <th>297</th>\n",
       "      <th>298</th>\n",
       "      <th>299</th>\n",
       "    </tr>\n",
       "  </thead>\n",
       "  <tbody>\n",
       "    <tr>\n",
       "      <th>0</th>\n",
       "      <td>abstract</td>\n",
       "      <td>[ 9.34010372e-03 -1.15401922e-02 -5.01083815e-...</td>\n",
       "      <td>0.009340</td>\n",
       "      <td>-0.011540</td>\n",
       "      <td>-0.005011</td>\n",
       "      <td>0.170543</td>\n",
       "      <td>-0.070042</td>\n",
       "      <td>-0.022673</td>\n",
       "      <td>0.035479</td>\n",
       "      <td>-0.033519</td>\n",
       "      <td>...</td>\n",
       "      <td>0.027858</td>\n",
       "      <td>0.024611</td>\n",
       "      <td>-0.013685</td>\n",
       "      <td>0.042488</td>\n",
       "      <td>0.054621</td>\n",
       "      <td>-0.036383</td>\n",
       "      <td>0.018394</td>\n",
       "      <td>-0.045638</td>\n",
       "      <td>0.025203</td>\n",
       "      <td>-0.052491</td>\n",
       "    </tr>\n",
       "    <tr>\n",
       "      <th>1</th>\n",
       "      <td>absence</td>\n",
       "      <td>[ 0.07312082 -0.04760321  0.09114736  0.162189...</td>\n",
       "      <td>0.073121</td>\n",
       "      <td>-0.047603</td>\n",
       "      <td>0.091147</td>\n",
       "      <td>0.162190</td>\n",
       "      <td>-0.052149</td>\n",
       "      <td>-0.108441</td>\n",
       "      <td>-0.028311</td>\n",
       "      <td>-0.041613</td>\n",
       "      <td>...</td>\n",
       "      <td>0.018856</td>\n",
       "      <td>0.007211</td>\n",
       "      <td>-0.080637</td>\n",
       "      <td>0.157568</td>\n",
       "      <td>-0.035902</td>\n",
       "      <td>-0.001056</td>\n",
       "      <td>-0.014947</td>\n",
       "      <td>-0.114950</td>\n",
       "      <td>-0.121481</td>\n",
       "      <td>0.031619</td>\n",
       "    </tr>\n",
       "    <tr>\n",
       "      <th>2</th>\n",
       "      <td>abundance</td>\n",
       "      <td>[ 1.32538220e-02  5.02222404e-02 -8.94451290e-...</td>\n",
       "      <td>0.013254</td>\n",
       "      <td>0.050222</td>\n",
       "      <td>-0.089445</td>\n",
       "      <td>0.083483</td>\n",
       "      <td>-0.044747</td>\n",
       "      <td>-0.065899</td>\n",
       "      <td>0.019941</td>\n",
       "      <td>-0.052136</td>\n",
       "      <td>...</td>\n",
       "      <td>0.043838</td>\n",
       "      <td>0.002926</td>\n",
       "      <td>-0.050873</td>\n",
       "      <td>-0.012946</td>\n",
       "      <td>-0.007152</td>\n",
       "      <td>0.148603</td>\n",
       "      <td>0.109223</td>\n",
       "      <td>-0.019303</td>\n",
       "      <td>0.029999</td>\n",
       "      <td>0.042774</td>\n",
       "    </tr>\n",
       "    <tr>\n",
       "      <th>3</th>\n",
       "      <td>reality</td>\n",
       "      <td>[ 0.01723179 -0.13826157 -0.06955002  0.161501...</td>\n",
       "      <td>0.017232</td>\n",
       "      <td>-0.138262</td>\n",
       "      <td>-0.069550</td>\n",
       "      <td>0.161501</td>\n",
       "      <td>-0.024385</td>\n",
       "      <td>-0.121781</td>\n",
       "      <td>-0.035268</td>\n",
       "      <td>0.007963</td>\n",
       "      <td>...</td>\n",
       "      <td>0.027821</td>\n",
       "      <td>0.020316</td>\n",
       "      <td>-0.028523</td>\n",
       "      <td>0.028286</td>\n",
       "      <td>-0.049850</td>\n",
       "      <td>-0.049433</td>\n",
       "      <td>0.133848</td>\n",
       "      <td>0.008867</td>\n",
       "      <td>-0.076711</td>\n",
       "      <td>0.042498</td>\n",
       "    </tr>\n",
       "    <tr>\n",
       "      <th>4</th>\n",
       "      <td>beautiful</td>\n",
       "      <td>[-5.69702238e-02  2.03019492e-02 -2.46770643e-...</td>\n",
       "      <td>-0.056970</td>\n",
       "      <td>0.020302</td>\n",
       "      <td>-0.024677</td>\n",
       "      <td>-0.048865</td>\n",
       "      <td>0.064803</td>\n",
       "      <td>-0.033035</td>\n",
       "      <td>-0.029016</td>\n",
       "      <td>-0.020143</td>\n",
       "      <td>...</td>\n",
       "      <td>-0.071911</td>\n",
       "      <td>-0.002086</td>\n",
       "      <td>0.023876</td>\n",
       "      <td>0.077053</td>\n",
       "      <td>0.024279</td>\n",
       "      <td>-0.043584</td>\n",
       "      <td>-0.053606</td>\n",
       "      <td>0.007344</td>\n",
       "      <td>0.018627</td>\n",
       "      <td>-0.046889</td>\n",
       "    </tr>\n",
       "  </tbody>\n",
       "</table>\n",
       "<p>5 rows × 302 columns</p>\n",
       "</div>"
      ],
      "text/plain": [
       "       token                                             vector         0  \\\n",
       "0   abstract  [ 9.34010372e-03 -1.15401922e-02 -5.01083815e-...  0.009340   \n",
       "1    absence  [ 0.07312082 -0.04760321  0.09114736  0.162189...  0.073121   \n",
       "2  abundance  [ 1.32538220e-02  5.02222404e-02 -8.94451290e-...  0.013254   \n",
       "3    reality  [ 0.01723179 -0.13826157 -0.06955002  0.161501...  0.017232   \n",
       "4  beautiful  [-5.69702238e-02  2.03019492e-02 -2.46770643e-... -0.056970   \n",
       "\n",
       "          1         2         3         4         5         6         7  ...  \\\n",
       "0 -0.011540 -0.005011  0.170543 -0.070042 -0.022673  0.035479 -0.033519  ...   \n",
       "1 -0.047603  0.091147  0.162190 -0.052149 -0.108441 -0.028311 -0.041613  ...   \n",
       "2  0.050222 -0.089445  0.083483 -0.044747 -0.065899  0.019941 -0.052136  ...   \n",
       "3 -0.138262 -0.069550  0.161501 -0.024385 -0.121781 -0.035268  0.007963  ...   \n",
       "4  0.020302 -0.024677 -0.048865  0.064803 -0.033035 -0.029016 -0.020143  ...   \n",
       "\n",
       "        290       291       292       293       294       295       296  \\\n",
       "0  0.027858  0.024611 -0.013685  0.042488  0.054621 -0.036383  0.018394   \n",
       "1  0.018856  0.007211 -0.080637  0.157568 -0.035902 -0.001056 -0.014947   \n",
       "2  0.043838  0.002926 -0.050873 -0.012946 -0.007152  0.148603  0.109223   \n",
       "3  0.027821  0.020316 -0.028523  0.028286 -0.049850 -0.049433  0.133848   \n",
       "4 -0.071911 -0.002086  0.023876  0.077053  0.024279 -0.043584 -0.053606   \n",
       "\n",
       "        297       298       299  \n",
       "0 -0.045638  0.025203 -0.052491  \n",
       "1 -0.114950 -0.121481  0.031619  \n",
       "2 -0.019303  0.029999  0.042774  \n",
       "3  0.008867 -0.076711  0.042498  \n",
       "4  0.007344  0.018627 -0.046889  \n",
       "\n",
       "[5 rows x 302 columns]"
      ]
     },
     "execution_count": 5,
     "metadata": {},
     "output_type": "execute_result"
    }
   ],
   "source": [
    "old_vectorized.head()"
   ]
  },
  {
   "cell_type": "code",
   "execution_count": 19,
   "metadata": {},
   "outputs": [],
   "source": [
    "test_words = [\"abortion\", \"right\", \"hope\"]"
   ]
  },
  {
   "cell_type": "code",
   "execution_count": 20,
   "metadata": {
    "scrolled": true
   },
   "outputs": [
    {
     "data": {
      "text/plain": [
       "array([-0.0595938116312027, 0.002515439176931977, -0.0190099086612463,\n",
       "       -0.023402314633131027, 0.031809061765670776, 0.04358609765768051,\n",
       "       -0.04213117808103562, -0.06316255778074265, -0.08231368660926819,\n",
       "       -0.018042678013443947, -0.03702450543642044, -0.03173373267054558,\n",
       "       0.04356071725487709, 0.007339296862483025, -0.03659002110362053,\n",
       "       -0.05528400093317032, -0.05436739325523377, -0.02475618757307529,\n",
       "       0.017143925651907917, -0.08313880115747453, -0.05490608513355255,\n",
       "       0.009113061241805552, -0.01580750197172165, 0.04432329535484314,\n",
       "       -0.06015291810035705, -0.04051817208528519, 0.0861893966794014,\n",
       "       0.03522270545363426, -0.005904043558984995, 0.02147570438683033,\n",
       "       -0.057354915887117386, 0.07618407905101776, -0.06964822113513948,\n",
       "       0.007255108095705509, -0.08948814868927002, -0.02322428487241268,\n",
       "       -0.05853783339262009, -0.01926033012568951, -0.01803107000887394,\n",
       "       0.04745475947856903, 0.07784204185009003, 0.006944485940039158,\n",
       "       -0.046730175614357, 0.05387088656425476, -0.0006218329654075205,\n",
       "       0.018787981942296028, -0.011703739874064922, -0.06563232094049454,\n",
       "       -0.07535011321306229, 0.04790936037898064, 0.027294313535094258,\n",
       "       0.06689149886369705, -0.051200658082962036, -0.12705616652965546,\n",
       "       -0.023246875032782555, -0.08883483707904816, -0.05268142744898796,\n",
       "       -0.008635664358735085, 0.007369318511337042, 0.034436631947755814,\n",
       "       0.02423829771578312, -0.011360462754964828, -0.07181434333324432,\n",
       "       -0.04260892048478127, 0.039056964218616486, -0.0037480848841369148,\n",
       "       -0.04279515892267227, -0.03194892406463623, 0.07201328128576279,\n",
       "       0.01614321395754814, 0.06553144007921219, 0.029463719576597214,\n",
       "       0.042516760528087616, -0.11713599413633348, 0.1462378203868866,\n",
       "       -0.06920214742422104, 0.07307920604944229, 0.054912563413381583,\n",
       "       0.05310861393809319, -0.02001846767961979, 0.032825443893671036,\n",
       "       0.021864349022507668, -0.006497281137853861, -0.04008474946022034,\n",
       "       -0.013702054508030416, -0.011294836178421974,\n",
       "       -0.022057374939322468, 0.07883046567440033, -0.0038484064862132072,\n",
       "       -0.034533731639385216, 0.034605983644723885, 0.02946677803993225,\n",
       "       0.021175814792513847, -0.035342242568731315, -0.07905459403991699,\n",
       "       -0.03626399114727974, 0.10032463818788527, 0.07439004629850388,\n",
       "       -0.013750757090747356, 0.008380387909710406, -0.030713796615600582,\n",
       "       -0.07423410564661026, -0.04967925697565079, 0.08227416127920151,\n",
       "       -0.015599418431520462, 0.03929279372096062, -0.09414941072463988,\n",
       "       0.02871313877403736, -0.09260407090187073, 0.011319135315716268,\n",
       "       -0.007340124808251858, -0.013039625249803066, -0.05394496768712997,\n",
       "       -0.05138140544295311, -0.0820612907409668, -0.13792502880096436,\n",
       "       -0.03823518380522728, 0.10574082285165788, -0.06851472705602646,\n",
       "       0.02256179228425026, 0.01558820344507694, -0.04406599700450897,\n",
       "       -0.04044685885310173, -0.0463138222694397, -0.0010769704822450876,\n",
       "       -0.017226152122020718, -0.04955070838332176, -0.07075157761573793,\n",
       "       -0.0007516673649661242, -0.1270933598279953, -0.13074493408203125,\n",
       "       0.02536366879940033, 0.04003190994262695, -0.10349860042333604,\n",
       "       -0.04874008148908615, 0.008428811095654964, 0.04310782626271248,\n",
       "       0.07194286584854126, -0.05501093342900276, -0.054391026496887214,\n",
       "       0.02009502612054348, -0.046118412166833885, 0.07147900760173798,\n",
       "       -0.013899493031203749, -0.04632363468408585, 0.06836463510990143,\n",
       "       -0.06052282825112343, -0.06889843195676804, -0.07382143288850784,\n",
       "       0.06283974647521973, 0.1277199536561966, 0.07300920784473419,\n",
       "       0.02126823365688324, -0.04585325345396996, 0.05261009559035301,\n",
       "       0.07453721016645433, 0.10162165760993958, -0.062179669737815864,\n",
       "       -0.05778457224369049, 0.07419382780790329, 0.05189206451177597,\n",
       "       0.012368210591375828, -0.0170090813189745, -0.06153113394975662,\n",
       "       -0.03088192827999592, -0.005867882166057825, 0.005552348680794239,\n",
       "       -0.02625321410596371, -0.020245051011443138, 0.020434938371181488,\n",
       "       -0.037525661289691925, -0.07329069823026657, -0.04394028335809708,\n",
       "       0.012300162576138972, -0.1086263433098793, -0.006581753026694059,\n",
       "       -0.05247844383120537, 0.08815338462591171, 0.02840319089591503,\n",
       "       0.03242917358875275, -0.06545718014240265, 0.1042288988828659,\n",
       "       0.014632280915975569, -0.02132583782076836, -0.01341903302818537,\n",
       "       -0.0033001473639160395, 0.039170026779174805, -0.10296277701854706,\n",
       "       -0.057626795023679726, -0.01498859841376543, -0.008880858309566975,\n",
       "       -0.0049095689319074145, -0.09561733156442642, 0.01736677810549736,\n",
       "       -0.10043499618768692, 0.02450752817094326, -0.07037119567394258,\n",
       "       0.11604640632867813, 0.1218329221010208, 0.022116176784038544,\n",
       "       -0.02429562248289585, 0.019984463229775432, 0.03607235476374626,\n",
       "       -0.007213938981294631, 0.07141625881195067, 0.09359771013259888,\n",
       "       -0.1322576403617859, 0.0019696454983204608, 0.008283939212560655,\n",
       "       -0.04136406257748604, 0.11325009167194365, 0.03557242825627327,\n",
       "       -0.011631927452981472, -0.012836984358727932, 0.06115329265594481,\n",
       "       0.06272666156291963, 0.14587068557739258, -0.07933209091424942,\n",
       "       -0.03330591320991516, 0.014044122770428658, -0.025702182203531262,\n",
       "       0.004705654457211494, -0.08457005769014359, -0.08669455349445343,\n",
       "       0.034064054489135735, 0.004445628263056278, -0.08826805651187898,\n",
       "       -0.04702746495604515, 0.049676235765218735, 0.1263428032398224,\n",
       "       0.041559789329767234, 0.020666047930717468, 0.06901682168245317,\n",
       "       0.052620969712734215, -0.12563426792621613, -0.05041494593024254,\n",
       "       0.04848010838031769, -0.0071314736269414425, -0.044989172369241714,\n",
       "       -0.06645287573337555, 0.06528748571872711, -0.010960244573652744,\n",
       "       0.002929303329437971, -0.0840132087469101, 0.04582120478153229,\n",
       "       -0.05933671817183495, 0.025413420051336292, -0.024332638829946518,\n",
       "       0.02817067131400108, 0.05477175861597061, -0.06023359298706055,\n",
       "       -0.019917327910661697, -0.0634610503911972, -0.01809040457010269,\n",
       "       -0.0592200942337513, 0.002634974895045161, 0.0687670111656189,\n",
       "       0.042712438851594925, 0.04181429371237755, -0.07052437961101532,\n",
       "       0.0525687113404274, 0.056040391325950616, 0.03846612200140953,\n",
       "       -0.06182390451431274, 0.07355096191167831, 0.005046148784458636,\n",
       "       -0.003992302343249321, 0.05490079894661904, -0.04455290734767914,\n",
       "       -0.045358065515756614, 0.00907303672283888, 0.06739456951618195,\n",
       "       0.07487119734287262, -0.029586173593997955, 0.03861260786652565,\n",
       "       -0.056555628776550286, -0.031019996851682663, 0.04357146844267845,\n",
       "       -0.07733094692230225, 0.012977463193237782, 0.04093393310904503,\n",
       "       0.028344474732875824, 0.0948435366153717, -0.02127431146800518,\n",
       "       -0.09994368255138396, 0.04276914522051811, -0.10599303245544434,\n",
       "       -0.10453574359416963, 0.024152595549821854, -0.055287614464759834,\n",
       "       -0.01074044406414032, -0.0592169500887394, -0.05142680183053017,\n",
       "       -0.033412378281354904, -0.07192777097225189, 0.07666245847940445,\n",
       "       -0.0433320514857769, -0.019322160631418228, -0.1577504277229309,\n",
       "       -0.0227207038551569], dtype=object)"
      ]
     },
     "execution_count": 20,
     "metadata": {},
     "output_type": "execute_result"
    }
   ],
   "source": [
    "(old_vectorized.loc[old_vectorized.token == 'hope'].iloc[0, 2:].values)"
   ]
  },
  {
   "cell_type": "code",
   "execution_count": 4,
   "metadata": {
    "scrolled": true
   },
   "outputs": [
    {
     "ename": "NameError",
     "evalue": "name 'test_words' is not defined",
     "output_type": "error",
     "traceback": [
      "\u001b[0;31m---------------------------------------------------------------------------\u001b[0m",
      "\u001b[0;31mNameError\u001b[0m                                 Traceback (most recent call last)",
      "\u001b[0;32m<ipython-input-4-4d394f3803f8>\u001b[0m in \u001b[0;36m<module>\u001b[0;34m\u001b[0m\n\u001b[1;32m     19\u001b[0m     \u001b[0;32mreturn\u001b[0m \u001b[0moutput_list\u001b[0m\u001b[0;34m\u001b[0m\u001b[0;34m\u001b[0m\u001b[0m\n\u001b[1;32m     20\u001b[0m \u001b[0;34m\u001b[0m\u001b[0m\n\u001b[0;32m---> 21\u001b[0;31m \u001b[0minput_data\u001b[0m \u001b[0;34m=\u001b[0m \u001b[0mformat_input\u001b[0m\u001b[0;34m(\u001b[0m\u001b[0mtest_words\u001b[0m\u001b[0;34m)\u001b[0m\u001b[0;34m\u001b[0m\u001b[0;34m\u001b[0m\u001b[0m\n\u001b[0m\u001b[1;32m     22\u001b[0m \u001b[0mprint\u001b[0m\u001b[0;34m(\u001b[0m\u001b[0minput_data\u001b[0m\u001b[0;34m)\u001b[0m\u001b[0;34m\u001b[0m\u001b[0;34m\u001b[0m\u001b[0m\n\u001b[1;32m     23\u001b[0m \u001b[0minput_vectors\u001b[0m \u001b[0;34m=\u001b[0m \u001b[0mlookup_table\u001b[0m\u001b[0;34m(\u001b[0m\u001b[0mold_vectorized\u001b[0m\u001b[0;34m,\u001b[0m \u001b[0minput_data\u001b[0m\u001b[0;34m)\u001b[0m\u001b[0;34m\u001b[0m\u001b[0;34m\u001b[0m\u001b[0m\n",
      "\u001b[0;31mNameError\u001b[0m: name 'test_words' is not defined"
     ]
    }
   ],
   "source": [
    "## format\n",
    "def format_input(input_data):\n",
    "    if (type(input_data)==list and type(input_data[0])==str):\n",
    "        formatted_data=input_data\n",
    "    else:\n",
    "        formatted_data = input_data.encode('utf-8')\n",
    "    return formatted_data\n",
    "    \n",
    "\n",
    "def lookup_table(search_table, new_input_data):\n",
    "    output_list = []\n",
    "    for x in new_input_data:\n",
    "        #lookup_vector = np.array(search_table.loc[search_table.token==x].vector)\n",
    "        lookup_vector_row = search_table.loc[search_table.token==x]\n",
    "        lookup_vector = lookup_vector_row.iloc[0, 2:].values\n",
    "        lookup_vector = np.array(lookup_vector)\n",
    "        output_list.append(lookup_vector)\n",
    "        \n",
    "    return output_list\n",
    "\n",
    "input_data = format_input(test_words)\n",
    "print(input_data)\n",
    "input_vectors = lookup_table(old_vectorized, input_data)\n",
    "print(input_vectors)"
   ]
  },
  {
   "cell_type": "code",
   "execution_count": null,
   "metadata": {},
   "outputs": [],
   "source": []
  },
  {
   "cell_type": "code",
   "execution_count": 5,
   "metadata": {},
   "outputs": [],
   "source": [
    "## extract details"
   ]
  },
  {
   "cell_type": "code",
   "execution_count": 6,
   "metadata": {},
   "outputs": [],
   "source": [
    "def Convert(string): \n",
    "    li = list(string.split(\" \")) \n",
    "    return li"
   ]
  },
  {
   "cell_type": "code",
   "execution_count": 7,
   "metadata": {},
   "outputs": [],
   "source": [
    "## old data"
   ]
  },
  {
   "cell_type": "code",
   "execution_count": 29,
   "metadata": {},
   "outputs": [],
   "source": [
    "old_vocab = list()\n",
    "\n",
    "for i in range(0,len(old_vectorized)):\n",
    "    test = old_vectorized.iloc[i].token\n",
    "    old_vocab.append(test)\n",
    "\n",
    "old_vocab_df = pd.DataFrame(old_vocab, columns=[\"token\"])"
   ]
  },
  {
   "cell_type": "code",
   "execution_count": 30,
   "metadata": {},
   "outputs": [],
   "source": [
    "old_vectors_2 = list()\n",
    "\n",
    "for i in range(0,len(old_vectorized)):\n",
    "    test = old_vectorized.iloc[i, 2:].values\n",
    "    old_vectors_2.append(test)"
   ]
  },
  {
   "cell_type": "code",
   "execution_count": 31,
   "metadata": {},
   "outputs": [],
   "source": [
    "old_array = np.array(old_vectors_2)"
   ]
  },
  {
   "cell_type": "code",
   "execution_count": 12,
   "metadata": {},
   "outputs": [
    {
     "name": "stdout",
     "output_type": "stream",
     "text": [
      "<class 'numpy.ndarray'>\n"
     ]
    },
    {
     "ename": "NameError",
     "evalue": "name 'input_vectors' is not defined",
     "output_type": "error",
     "traceback": [
      "\u001b[0;31m---------------------------------------------------------------------------\u001b[0m",
      "\u001b[0;31mNameError\u001b[0m                                 Traceback (most recent call last)",
      "\u001b[0;32m<ipython-input-12-7107bb20ef19>\u001b[0m in \u001b[0;36m<module>\u001b[0;34m\u001b[0m\n\u001b[1;32m      1\u001b[0m \u001b[0mprint\u001b[0m\u001b[0;34m(\u001b[0m\u001b[0mtype\u001b[0m\u001b[0;34m(\u001b[0m\u001b[0mold_array\u001b[0m\u001b[0;34m)\u001b[0m\u001b[0;34m)\u001b[0m\u001b[0;34m\u001b[0m\u001b[0;34m\u001b[0m\u001b[0m\n\u001b[0;32m----> 2\u001b[0;31m \u001b[0mprint\u001b[0m\u001b[0;34m(\u001b[0m\u001b[0mtype\u001b[0m\u001b[0;34m(\u001b[0m\u001b[0minput_vectors\u001b[0m\u001b[0;34m)\u001b[0m\u001b[0;34m)\u001b[0m\u001b[0;34m\u001b[0m\u001b[0;34m\u001b[0m\u001b[0m\n\u001b[0m",
      "\u001b[0;31mNameError\u001b[0m: name 'input_vectors' is not defined"
     ]
    }
   ],
   "source": [
    "print(type(old_array))\n",
    "print(type(input_vectors))"
   ]
  },
  {
   "cell_type": "code",
   "execution_count": 32,
   "metadata": {
    "scrolled": true
   },
   "outputs": [
    {
     "data": {
      "text/plain": [
       "<bound method NDFrame.head of             0         1         2         3         4         5         6  \\\n",
       "0    0.009340 -0.011540 -0.005011  0.170543 -0.070042 -0.022673  0.035479   \n",
       "1    0.073121 -0.047603  0.091147  0.162190 -0.052149 -0.108441 -0.028311   \n",
       "2    0.013254  0.050222 -0.089445  0.083483 -0.044747 -0.065899  0.019941   \n",
       "3    0.017232 -0.138262 -0.069550  0.161501 -0.024385 -0.121781 -0.035268   \n",
       "4   -0.056970  0.020302 -0.024677 -0.048865  0.064803 -0.033035 -0.029016   \n",
       "..        ...       ...       ...       ...       ...       ...       ...   \n",
       "936 -0.021196 -0.011311 -0.073023  0.030679  0.117935  0.040947  0.024909   \n",
       "937 -0.028905  0.093232 -0.058349 -0.013379 -0.086675  0.104365  0.064961   \n",
       "938 -0.074280  0.093354 -0.145046  0.006174  0.000712  0.073791  0.088202   \n",
       "939 -0.045976 -0.006391 -0.056196 -0.057425 -0.018857 -0.025275  0.079501   \n",
       "940  0.014605  0.167768 -0.082776 -0.017683 -0.045675  0.065280  0.051255   \n",
       "\n",
       "            7         8         9  ...       290       291       292  \\\n",
       "0   -0.033519  0.038251  0.045745  ...  0.027858  0.024611 -0.013685   \n",
       "1   -0.041613 -0.026646 -0.015232  ...  0.018856  0.007211 -0.080637   \n",
       "2   -0.052136  0.037055 -0.078439  ...  0.043838  0.002926 -0.050873   \n",
       "3    0.007963  0.047652 -0.019447  ...  0.027821  0.020316 -0.028523   \n",
       "4   -0.020143  0.038997  0.015680  ... -0.071911 -0.002086  0.023876   \n",
       "..        ...       ...       ...  ...       ...       ...       ...   \n",
       "936  0.073402  0.039913  0.030451  ... -0.079502  0.096267  0.060664   \n",
       "937  0.024115  0.153662  0.029945  ...  0.079233 -0.081211 -0.045705   \n",
       "938  0.058804  0.021020  0.019840  ... -0.028003 -0.029557 -0.022236   \n",
       "939  0.044921  0.043905  0.030954  ...  0.089390  0.021395  0.031801   \n",
       "940 -0.045690  0.037330  0.074602  ... -0.044892 -0.049401  0.061406   \n",
       "\n",
       "          293       294       295       296       297       298       299  \n",
       "0    0.042488  0.054621 -0.036383  0.018394 -0.045638  0.025203 -0.052491  \n",
       "1    0.157568 -0.035902 -0.001056 -0.014947 -0.114950 -0.121481  0.031619  \n",
       "2   -0.012946 -0.007152  0.148603  0.109223 -0.019303  0.029999  0.042774  \n",
       "3    0.028286 -0.049850 -0.049433  0.133848  0.008867 -0.076711  0.042498  \n",
       "4    0.077053  0.024279 -0.043584 -0.053606  0.007344  0.018627 -0.046889  \n",
       "..        ...       ...       ...       ...       ...       ...       ...  \n",
       "936  0.034208 -0.119383  0.066091 -0.133915  0.001732 -0.072120  0.064670  \n",
       "937  0.038298 -0.008489 -0.004637 -0.072350  0.039764 -0.014958  0.071050  \n",
       "938 -0.088852 -0.003609  0.031037  0.097972  0.119025 -0.085960 -0.042356  \n",
       "939  0.014382 -0.027417  0.028251 -0.089081 -0.034247 -0.061705 -0.033233  \n",
       "940  0.076096  0.013065  0.041824 -0.068288 -0.040960 -0.040674  0.035157  \n",
       "\n",
       "[941 rows x 300 columns]>"
      ]
     },
     "execution_count": 32,
     "metadata": {},
     "output_type": "execute_result"
    }
   ],
   "source": [
    "old_vectors_df_2 = old_vectorized.drop(['token','vector'], axis=1)\n",
    "old_vectors_df_2.head"
   ]
  },
  {
   "cell_type": "code",
   "execution_count": null,
   "metadata": {},
   "outputs": [],
   "source": [
    "## inroads data"
   ]
  },
  {
   "cell_type": "code",
   "execution_count": 33,
   "metadata": {},
   "outputs": [],
   "source": [
    "inroads_vocab = list()\n",
    "\n",
    "for i in range(0,len(inroads_vectorized)):\n",
    "    test = inroads_vectorized.iloc[i].token\n",
    "    inroads_vocab.append(test)\n",
    "\n",
    "inroads_vocab_df = pd.DataFrame(inroads_vocab, columns=[\"token\"])"
   ]
  },
  {
   "cell_type": "code",
   "execution_count": 34,
   "metadata": {},
   "outputs": [],
   "source": [
    "inroads_vectors_2 = list()\n",
    "\n",
    "for i in range(0,len(inroads_vectorized)):\n",
    "    test = inroads_vectorized.iloc[i, 2:].values\n",
    "    inroads_vectors_2.append(test)"
   ]
  },
  {
   "cell_type": "code",
   "execution_count": 35,
   "metadata": {},
   "outputs": [],
   "source": [
    "import numpy as np\n",
    "inroads_array = np.array(inroads_vectors_2)"
   ]
  },
  {
   "cell_type": "code",
   "execution_count": 36,
   "metadata": {
    "scrolled": true
   },
   "outputs": [
    {
     "data": {
      "text/plain": [
       "<bound method NDFrame.head of               0         1         2         3         4         5         6  \\\n",
       "0      0.188549 -0.051055 -0.051035  0.012129  0.018650 -0.108756 -0.054335   \n",
       "1     -0.089151 -0.032444  0.066067 -0.083048 -0.025339 -0.115493 -0.082126   \n",
       "2      0.080989  0.071457 -0.036697  0.051603 -0.098144 -0.004233  0.047631   \n",
       "3      0.048181 -0.024815 -0.042576  0.044887 -0.072843 -0.014483 -0.092501   \n",
       "4     -0.002084  0.084489  0.014706  0.073587 -0.098434 -0.009841 -0.012736   \n",
       "...         ...       ...       ...       ...       ...       ...       ...   \n",
       "10056 -0.014218 -0.024084  0.081345 -0.069396 -0.051680  0.006385 -0.056575   \n",
       "10057 -0.073358 -0.063885  0.057451 -0.059011 -0.102870  0.027484 -0.090268   \n",
       "10058 -0.082558  0.043012 -0.118982 -0.168650  0.035012  0.004704  0.010404   \n",
       "10059  0.010403 -0.001597  0.022658  0.142871  0.002488 -0.039659 -0.024233   \n",
       "10060  0.013340  0.024281 -0.089154  0.055416  0.031318  0.012631  0.109731   \n",
       "\n",
       "              7         8         9  ...       290       291       292  \\\n",
       "0     -0.003939  0.021723 -0.048769  ...  0.067170  0.014436  0.027066   \n",
       "1     -0.015637  0.010993 -0.020402  ... -0.031248  0.035671  0.022658   \n",
       "2      0.025854 -0.024231 -0.023942  ... -0.020227  0.035703 -0.040952   \n",
       "3     -0.036309 -0.056641 -0.054676  ...  0.001294 -0.023781 -0.000153   \n",
       "4     -0.084855  0.008198 -0.003929  ...  0.072306 -0.008926 -0.072427   \n",
       "...         ...       ...       ...  ...       ...       ...       ...   \n",
       "10056  0.193053  0.073471  0.054874  ... -0.052560 -0.098588  0.010969   \n",
       "10057  0.049498  0.074800  0.087983  ... -0.018132 -0.060725 -0.017951   \n",
       "10058  0.037006 -0.035008  0.085903  ... -0.002580 -0.025475 -0.014083   \n",
       "10059  0.012931 -0.078566  0.044646  ...  0.044288 -0.061349  0.003900   \n",
       "10060  0.014341 -0.005156  0.061679  ...  0.068354 -0.119120  0.064430   \n",
       "\n",
       "            293       294       295       296       297       298       299  \n",
       "0     -0.011628 -0.076336  0.020410  0.032563 -0.045787 -0.077532 -0.084312  \n",
       "1      0.047292 -0.071116 -0.075786  0.015880  0.021262 -0.051069 -0.082306  \n",
       "2     -0.026335  0.001954  0.001704  0.098474 -0.053931 -0.007621  0.002607  \n",
       "3     -0.002167  0.062039  0.115820  0.100294  0.055571  0.046550  0.041450  \n",
       "4     -0.022924 -0.045194 -0.044142  0.019417  0.026820  0.013483 -0.025351  \n",
       "...         ...       ...       ...       ...       ...       ...       ...  \n",
       "10056  0.000303  0.012525  0.024695 -0.099009 -0.039917 -0.073046 -0.057320  \n",
       "10057 -0.002820  0.020353  0.010160 -0.051351 -0.017208 -0.039342 -0.034791  \n",
       "10058 -0.033139  0.047937 -0.032920  0.019858 -0.015019  0.093141 -0.025104  \n",
       "10059 -0.058371 -0.064461 -0.049368 -0.036179 -0.029942  0.039247 -0.071742  \n",
       "10060 -0.006576 -0.002567 -0.020004  0.010457  0.000264  0.019231  0.082335  \n",
       "\n",
       "[10061 rows x 300 columns]>"
      ]
     },
     "execution_count": 36,
     "metadata": {},
     "output_type": "execute_result"
    }
   ],
   "source": [
    "inroads_vectors_df_2 = inroads_vectorized.drop(['token','vector'], axis=1)\n",
    "inroads_vectors_df_2.head"
   ]
  },
  {
   "cell_type": "code",
   "execution_count": 37,
   "metadata": {},
   "outputs": [],
   "source": [
    "frames = [old_vectorized, inroads_vectorized]\n",
    "\n",
    "combined_vectorized = pd.concat(frames)\n",
    "combined_vectorized = combined_vectorized.drop_duplicates()"
   ]
  },
  {
   "cell_type": "code",
   "execution_count": 38,
   "metadata": {},
   "outputs": [
    {
     "data": {
      "text/html": [
       "<div>\n",
       "<style scoped>\n",
       "    .dataframe tbody tr th:only-of-type {\n",
       "        vertical-align: middle;\n",
       "    }\n",
       "\n",
       "    .dataframe tbody tr th {\n",
       "        vertical-align: top;\n",
       "    }\n",
       "\n",
       "    .dataframe thead th {\n",
       "        text-align: right;\n",
       "    }\n",
       "</style>\n",
       "<table border=\"1\" class=\"dataframe\">\n",
       "  <thead>\n",
       "    <tr style=\"text-align: right;\">\n",
       "      <th></th>\n",
       "      <th>token</th>\n",
       "      <th>vector</th>\n",
       "      <th>0</th>\n",
       "      <th>1</th>\n",
       "      <th>2</th>\n",
       "      <th>3</th>\n",
       "      <th>4</th>\n",
       "      <th>5</th>\n",
       "      <th>6</th>\n",
       "      <th>7</th>\n",
       "      <th>...</th>\n",
       "      <th>290</th>\n",
       "      <th>291</th>\n",
       "      <th>292</th>\n",
       "      <th>293</th>\n",
       "      <th>294</th>\n",
       "      <th>295</th>\n",
       "      <th>296</th>\n",
       "      <th>297</th>\n",
       "      <th>298</th>\n",
       "      <th>299</th>\n",
       "    </tr>\n",
       "  </thead>\n",
       "  <tbody>\n",
       "    <tr>\n",
       "      <th>0</th>\n",
       "      <td>abstract</td>\n",
       "      <td>[ 9.34010372e-03 -1.15401922e-02 -5.01083815e-...</td>\n",
       "      <td>0.009340</td>\n",
       "      <td>-0.011540</td>\n",
       "      <td>-0.005011</td>\n",
       "      <td>0.170543</td>\n",
       "      <td>-0.070042</td>\n",
       "      <td>-0.022673</td>\n",
       "      <td>0.035479</td>\n",
       "      <td>-0.033519</td>\n",
       "      <td>...</td>\n",
       "      <td>0.027858</td>\n",
       "      <td>0.024611</td>\n",
       "      <td>-0.013685</td>\n",
       "      <td>0.042488</td>\n",
       "      <td>0.054621</td>\n",
       "      <td>-0.036383</td>\n",
       "      <td>0.018394</td>\n",
       "      <td>-0.045638</td>\n",
       "      <td>0.025203</td>\n",
       "      <td>-0.052491</td>\n",
       "    </tr>\n",
       "    <tr>\n",
       "      <th>1</th>\n",
       "      <td>absence</td>\n",
       "      <td>[ 0.07312082 -0.04760321  0.09114736  0.162189...</td>\n",
       "      <td>0.073121</td>\n",
       "      <td>-0.047603</td>\n",
       "      <td>0.091147</td>\n",
       "      <td>0.162190</td>\n",
       "      <td>-0.052149</td>\n",
       "      <td>-0.108441</td>\n",
       "      <td>-0.028311</td>\n",
       "      <td>-0.041613</td>\n",
       "      <td>...</td>\n",
       "      <td>0.018856</td>\n",
       "      <td>0.007211</td>\n",
       "      <td>-0.080637</td>\n",
       "      <td>0.157568</td>\n",
       "      <td>-0.035902</td>\n",
       "      <td>-0.001056</td>\n",
       "      <td>-0.014947</td>\n",
       "      <td>-0.114950</td>\n",
       "      <td>-0.121481</td>\n",
       "      <td>0.031619</td>\n",
       "    </tr>\n",
       "    <tr>\n",
       "      <th>2</th>\n",
       "      <td>abundance</td>\n",
       "      <td>[ 1.32538220e-02  5.02222404e-02 -8.94451290e-...</td>\n",
       "      <td>0.013254</td>\n",
       "      <td>0.050222</td>\n",
       "      <td>-0.089445</td>\n",
       "      <td>0.083483</td>\n",
       "      <td>-0.044747</td>\n",
       "      <td>-0.065899</td>\n",
       "      <td>0.019941</td>\n",
       "      <td>-0.052136</td>\n",
       "      <td>...</td>\n",
       "      <td>0.043838</td>\n",
       "      <td>0.002926</td>\n",
       "      <td>-0.050873</td>\n",
       "      <td>-0.012946</td>\n",
       "      <td>-0.007152</td>\n",
       "      <td>0.148603</td>\n",
       "      <td>0.109223</td>\n",
       "      <td>-0.019303</td>\n",
       "      <td>0.029999</td>\n",
       "      <td>0.042774</td>\n",
       "    </tr>\n",
       "    <tr>\n",
       "      <th>3</th>\n",
       "      <td>reality</td>\n",
       "      <td>[ 0.01723179 -0.13826157 -0.06955002  0.161501...</td>\n",
       "      <td>0.017232</td>\n",
       "      <td>-0.138262</td>\n",
       "      <td>-0.069550</td>\n",
       "      <td>0.161501</td>\n",
       "      <td>-0.024385</td>\n",
       "      <td>-0.121781</td>\n",
       "      <td>-0.035268</td>\n",
       "      <td>0.007963</td>\n",
       "      <td>...</td>\n",
       "      <td>0.027821</td>\n",
       "      <td>0.020316</td>\n",
       "      <td>-0.028523</td>\n",
       "      <td>0.028286</td>\n",
       "      <td>-0.049850</td>\n",
       "      <td>-0.049433</td>\n",
       "      <td>0.133848</td>\n",
       "      <td>0.008867</td>\n",
       "      <td>-0.076711</td>\n",
       "      <td>0.042498</td>\n",
       "    </tr>\n",
       "    <tr>\n",
       "      <th>4</th>\n",
       "      <td>beautiful</td>\n",
       "      <td>[-5.69702238e-02  2.03019492e-02 -2.46770643e-...</td>\n",
       "      <td>-0.056970</td>\n",
       "      <td>0.020302</td>\n",
       "      <td>-0.024677</td>\n",
       "      <td>-0.048865</td>\n",
       "      <td>0.064803</td>\n",
       "      <td>-0.033035</td>\n",
       "      <td>-0.029016</td>\n",
       "      <td>-0.020143</td>\n",
       "      <td>...</td>\n",
       "      <td>-0.071911</td>\n",
       "      <td>-0.002086</td>\n",
       "      <td>0.023876</td>\n",
       "      <td>0.077053</td>\n",
       "      <td>0.024279</td>\n",
       "      <td>-0.043584</td>\n",
       "      <td>-0.053606</td>\n",
       "      <td>0.007344</td>\n",
       "      <td>0.018627</td>\n",
       "      <td>-0.046889</td>\n",
       "    </tr>\n",
       "  </tbody>\n",
       "</table>\n",
       "<p>5 rows × 302 columns</p>\n",
       "</div>"
      ],
      "text/plain": [
       "       token                                             vector         0  \\\n",
       "0   abstract  [ 9.34010372e-03 -1.15401922e-02 -5.01083815e-...  0.009340   \n",
       "1    absence  [ 0.07312082 -0.04760321  0.09114736  0.162189...  0.073121   \n",
       "2  abundance  [ 1.32538220e-02  5.02222404e-02 -8.94451290e-...  0.013254   \n",
       "3    reality  [ 0.01723179 -0.13826157 -0.06955002  0.161501...  0.017232   \n",
       "4  beautiful  [-5.69702238e-02  2.03019492e-02 -2.46770643e-... -0.056970   \n",
       "\n",
       "          1         2         3         4         5         6         7  ...  \\\n",
       "0 -0.011540 -0.005011  0.170543 -0.070042 -0.022673  0.035479 -0.033519  ...   \n",
       "1 -0.047603  0.091147  0.162190 -0.052149 -0.108441 -0.028311 -0.041613  ...   \n",
       "2  0.050222 -0.089445  0.083483 -0.044747 -0.065899  0.019941 -0.052136  ...   \n",
       "3 -0.138262 -0.069550  0.161501 -0.024385 -0.121781 -0.035268  0.007963  ...   \n",
       "4  0.020302 -0.024677 -0.048865  0.064803 -0.033035 -0.029016 -0.020143  ...   \n",
       "\n",
       "        290       291       292       293       294       295       296  \\\n",
       "0  0.027858  0.024611 -0.013685  0.042488  0.054621 -0.036383  0.018394   \n",
       "1  0.018856  0.007211 -0.080637  0.157568 -0.035902 -0.001056 -0.014947   \n",
       "2  0.043838  0.002926 -0.050873 -0.012946 -0.007152  0.148603  0.109223   \n",
       "3  0.027821  0.020316 -0.028523  0.028286 -0.049850 -0.049433  0.133848   \n",
       "4 -0.071911 -0.002086  0.023876  0.077053  0.024279 -0.043584 -0.053606   \n",
       "\n",
       "        297       298       299  \n",
       "0 -0.045638  0.025203 -0.052491  \n",
       "1 -0.114950 -0.121481  0.031619  \n",
       "2 -0.019303  0.029999  0.042774  \n",
       "3  0.008867 -0.076711  0.042498  \n",
       "4  0.007344  0.018627 -0.046889  \n",
       "\n",
       "[5 rows x 302 columns]"
      ]
     },
     "execution_count": 38,
     "metadata": {},
     "output_type": "execute_result"
    }
   ],
   "source": [
    "combined_vectorized.head()"
   ]
  },
  {
   "cell_type": "code",
   "execution_count": 22,
   "metadata": {
    "collapsed": true,
    "jupyter": {
     "outputs_hidden": true
    }
   },
   "outputs": [
    {
     "data": {
      "text/plain": [
       "{'ResponseMetadata': {'RequestId': '1C06AD984DA20185',\n",
       "  'HostId': 'pfDPoJR7afdNv7ADOy1tDxwFecf/Wiwet4B5slc2MQbZQ5yj0QyK8Ei5uBhEj8JhGWPe+npHxJg=',\n",
       "  'HTTPStatusCode': 200,\n",
       "  'HTTPHeaders': {'x-amz-id-2': 'pfDPoJR7afdNv7ADOy1tDxwFecf/Wiwet4B5slc2MQbZQ5yj0QyK8Ei5uBhEj8JhGWPe+npHxJg=',\n",
       "   'x-amz-request-id': '1C06AD984DA20185',\n",
       "   'date': 'Mon, 24 Aug 2020 23:27:27 GMT',\n",
       "   'etag': '\"387c5499cce9ede88143594b157fdb83\"',\n",
       "   'content-length': '0',\n",
       "   'server': 'AmazonS3'},\n",
       "  'RetryAttempts': 0},\n",
       " 'ETag': '\"387c5499cce9ede88143594b157fdb83\"'}"
      ]
     },
     "execution_count": 22,
     "metadata": {},
     "output_type": "execute_result"
    }
   ],
   "source": [
    "# upload to the above to s3 (4 data sets)\n",
    "s3 = boto3.client('s3')\n",
    "s3.put_object(Bucket='inroads-test-bucket1',Key='data/Vectorized/combined_vectorized.csv', Body= combined_vectorized.to_csv())"
   ]
  },
  {
   "cell_type": "code",
   "execution_count": 38,
   "metadata": {},
   "outputs": [],
   "source": [
    "## combined data"
   ]
  },
  {
   "cell_type": "code",
   "execution_count": 39,
   "metadata": {},
   "outputs": [],
   "source": [
    "combined_vocab = list()\n",
    "\n",
    "for i in range(0,len(combined_vectorized)):\n",
    "    test = combined_vectorized.iloc[i].token\n",
    "    combined_vocab.append(test)\n",
    "\n",
    "combined_vocab_df = pd.DataFrame(combined_vocab, columns=[\"token\"])"
   ]
  },
  {
   "cell_type": "code",
   "execution_count": 40,
   "metadata": {},
   "outputs": [],
   "source": [
    "combined_vectors_2 = list()\n",
    "\n",
    "for i in range(0,len(combined_vectorized)):\n",
    "    test = combined_vectorized.iloc[i, 2:].values\n",
    "    combined_vectors_2.append(test)"
   ]
  },
  {
   "cell_type": "code",
   "execution_count": 41,
   "metadata": {},
   "outputs": [],
   "source": [
    "import numpy as np\n",
    "combined_array = np.array(combined_vectors_2)"
   ]
  },
  {
   "cell_type": "code",
   "execution_count": 42,
   "metadata": {
    "scrolled": true
   },
   "outputs": [
    {
     "data": {
      "text/plain": [
       "<bound method NDFrame.head of               0         1         2         3         4         5         6  \\\n",
       "0      0.009340 -0.011540 -0.005011  0.170543 -0.070042 -0.022673  0.035479   \n",
       "1      0.073121 -0.047603  0.091147  0.162190 -0.052149 -0.108441 -0.028311   \n",
       "2      0.013254  0.050222 -0.089445  0.083483 -0.044747 -0.065899  0.019941   \n",
       "3      0.017232 -0.138262 -0.069550  0.161501 -0.024385 -0.121781 -0.035268   \n",
       "4     -0.056970  0.020302 -0.024677 -0.048865  0.064803 -0.033035 -0.029016   \n",
       "...         ...       ...       ...       ...       ...       ...       ...   \n",
       "10056 -0.014218 -0.024084  0.081345 -0.069396 -0.051680  0.006385 -0.056575   \n",
       "10057 -0.073358 -0.063885  0.057451 -0.059011 -0.102870  0.027484 -0.090268   \n",
       "10058 -0.082558  0.043012 -0.118982 -0.168650  0.035012  0.004704  0.010404   \n",
       "10059  0.010403 -0.001597  0.022658  0.142871  0.002488 -0.039659 -0.024233   \n",
       "10060  0.013340  0.024281 -0.089154  0.055416  0.031318  0.012631  0.109731   \n",
       "\n",
       "              7         8         9  ...       290       291       292  \\\n",
       "0     -0.033519  0.038251  0.045745  ...  0.027858  0.024611 -0.013685   \n",
       "1     -0.041613 -0.026646 -0.015232  ...  0.018856  0.007211 -0.080637   \n",
       "2     -0.052136  0.037055 -0.078439  ...  0.043838  0.002926 -0.050873   \n",
       "3      0.007963  0.047652 -0.019447  ...  0.027821  0.020316 -0.028523   \n",
       "4     -0.020143  0.038997  0.015680  ... -0.071911 -0.002086  0.023876   \n",
       "...         ...       ...       ...  ...       ...       ...       ...   \n",
       "10056  0.193053  0.073471  0.054874  ... -0.052560 -0.098588  0.010969   \n",
       "10057  0.049498  0.074800  0.087983  ... -0.018132 -0.060725 -0.017951   \n",
       "10058  0.037006 -0.035008  0.085903  ... -0.002580 -0.025475 -0.014083   \n",
       "10059  0.012931 -0.078566  0.044646  ...  0.044288 -0.061349  0.003900   \n",
       "10060  0.014341 -0.005156  0.061679  ...  0.068354 -0.119120  0.064430   \n",
       "\n",
       "            293       294       295       296       297       298       299  \n",
       "0      0.042488  0.054621 -0.036383  0.018394 -0.045638  0.025203 -0.052491  \n",
       "1      0.157568 -0.035902 -0.001056 -0.014947 -0.114950 -0.121481  0.031619  \n",
       "2     -0.012946 -0.007152  0.148603  0.109223 -0.019303  0.029999  0.042774  \n",
       "3      0.028286 -0.049850 -0.049433  0.133848  0.008867 -0.076711  0.042498  \n",
       "4      0.077053  0.024279 -0.043584 -0.053606  0.007344  0.018627 -0.046889  \n",
       "...         ...       ...       ...       ...       ...       ...       ...  \n",
       "10056  0.000303  0.012525  0.024695 -0.099009 -0.039917 -0.073046 -0.057320  \n",
       "10057 -0.002820  0.020353  0.010160 -0.051351 -0.017208 -0.039342 -0.034791  \n",
       "10058 -0.033139  0.047937 -0.032920  0.019858 -0.015019  0.093141 -0.025104  \n",
       "10059 -0.058371 -0.064461 -0.049368 -0.036179 -0.029942  0.039247 -0.071742  \n",
       "10060 -0.006576 -0.002567 -0.020004  0.010457  0.000264  0.019231  0.082335  \n",
       "\n",
       "[10146 rows x 300 columns]>"
      ]
     },
     "execution_count": 42,
     "metadata": {},
     "output_type": "execute_result"
    }
   ],
   "source": [
    "combined_vectors_df_2 = combined_vectorized.drop(['token','vector'], axis=1)\n",
    "combined_vectors_df_2.head"
   ]
  },
  {
   "cell_type": "code",
   "execution_count": 43,
   "metadata": {},
   "outputs": [],
   "source": [
    "def clustering_on_wordvecs(word_vectors, num_clusters):\n",
    "    # Initalize a k-means object and use it to extract centroids\n",
    "    kmeans_clustering = KMeans(n_clusters = num_clusters, init='k-means++', random_state = 1);\n",
    "    idx = kmeans_clustering.fit_predict(word_vectors);\n",
    "    \n",
    "    return kmeans_clustering, kmeans_clustering.cluster_centers_, idx;"
   ]
  },
  {
   "cell_type": "code",
   "execution_count": 44,
   "metadata": {},
   "outputs": [],
   "source": [
    "def get_top_words(index2word, k, centers, wordvecs):\n",
    "    tree = KDTree(wordvecs);\n",
    "#Closest points for each Cluster center is used to query the closest 20 points to it.\n",
    "    closest_points = [tree.query(np.reshape(x, (1, -1)), k=k) for x in centers];\n",
    "    closest_words_idxs = [x[1] for x in closest_points];\n",
    "#Word Index is queried for each position in the above array, and added to a Dictionary.\n",
    "    closest_words = {};\n",
    "    for i in range(0, len(closest_words_idxs)):\n",
    "        closest_words['Cluster #' + str(i)] = [index2word[j] for j in closest_words_idxs[i][0]]\n",
    "#A DataFrame is generated from the dictionary.\n",
    "    df = pd.DataFrame(closest_words);\n",
    "    df.index = df.index+1\n",
    "    return df, tree;"
   ]
  },
  {
   "cell_type": "code",
   "execution_count": 45,
   "metadata": {},
   "outputs": [],
   "source": [
    "kmodel,centers,clusters = clustering_on_wordvecs(old_vectors_2, 9);\n",
    "centroid_map = dict(zip(old_vocab, clusters));"
   ]
  },
  {
   "cell_type": "code",
   "execution_count": 46,
   "metadata": {},
   "outputs": [],
   "source": [
    "predicted_cluster = {}\n",
    "\n",
    "for i in range(0, len(combined_vectors_2)):\n",
    "    word = combined_vocab[i]\n",
    "    temp = kmodel.predict(combined_vectors_2[i].reshape(1,-1))[0]\n",
    "    predicted_cluster.update({word:temp})"
   ]
  },
  {
   "cell_type": "code",
   "execution_count": 61,
   "metadata": {
    "scrolled": true
   },
   "outputs": [
    {
     "ename": "AttributeError",
     "evalue": "'dict' object has no attribute 'value_counts'",
     "output_type": "error",
     "traceback": [
      "\u001b[0;31m---------------------------------------------------------------------------\u001b[0m",
      "\u001b[0;31mAttributeError\u001b[0m                            Traceback (most recent call last)",
      "\u001b[0;32m<ipython-input-61-10812802bdd9>\u001b[0m in \u001b[0;36m<module>\u001b[0;34m\u001b[0m\n\u001b[0;32m----> 1\u001b[0;31m \u001b[0mpredicted_cluster\u001b[0m\u001b[0;34m.\u001b[0m\u001b[0mvalue_counts\u001b[0m\u001b[0;34m(\u001b[0m\u001b[0;34m)\u001b[0m\u001b[0;34m\u001b[0m\u001b[0;34m\u001b[0m\u001b[0m\n\u001b[0m",
      "\u001b[0;31mAttributeError\u001b[0m: 'dict' object has no attribute 'value_counts'"
     ]
    }
   ],
   "source": [
    "predicted_cluster"
   ]
  },
  {
   "cell_type": "code",
   "execution_count": 73,
   "metadata": {
    "collapsed": true,
    "jupyter": {
     "outputs_hidden": true
    }
   },
   "outputs": [
    {
     "data": {
      "text/html": [
       "<div>\n",
       "<style scoped>\n",
       "    .dataframe tbody tr th:only-of-type {\n",
       "        vertical-align: middle;\n",
       "    }\n",
       "\n",
       "    .dataframe tbody tr th {\n",
       "        vertical-align: top;\n",
       "    }\n",
       "\n",
       "    .dataframe thead th {\n",
       "        text-align: right;\n",
       "    }\n",
       "</style>\n",
       "<table border=\"1\" class=\"dataframe\">\n",
       "  <thead>\n",
       "    <tr style=\"text-align: right;\">\n",
       "      <th></th>\n",
       "      <th>token</th>\n",
       "      <th>cluster</th>\n",
       "    </tr>\n",
       "  </thead>\n",
       "  <tbody>\n",
       "    <tr>\n",
       "      <th>0</th>\n",
       "      <td>abstract</td>\n",
       "      <td>2</td>\n",
       "    </tr>\n",
       "    <tr>\n",
       "      <th>1</th>\n",
       "      <td>absence</td>\n",
       "      <td>2</td>\n",
       "    </tr>\n",
       "    <tr>\n",
       "      <th>2</th>\n",
       "      <td>abundance</td>\n",
       "      <td>3</td>\n",
       "    </tr>\n",
       "    <tr>\n",
       "      <th>3</th>\n",
       "      <td>reality</td>\n",
       "      <td>1</td>\n",
       "    </tr>\n",
       "    <tr>\n",
       "      <th>4</th>\n",
       "      <td>beautiful</td>\n",
       "      <td>4</td>\n",
       "    </tr>\n",
       "  </tbody>\n",
       "</table>\n",
       "</div>"
      ],
      "text/plain": [
       "       token  cluster\n",
       "0   abstract        2\n",
       "1    absence        2\n",
       "2  abundance        3\n",
       "3    reality        1\n",
       "4  beautiful        4"
      ]
     },
     "execution_count": 73,
     "metadata": {},
     "output_type": "execute_result"
    }
   ],
   "source": [
    "predicted_dict_df = pd.DataFrame(list(predicted_cluster.items()), columns = [\"token\", \"cluster\"])\n",
    "predicted_dict_df.head()"
   ]
  },
  {
   "cell_type": "code",
   "execution_count": 74,
   "metadata": {
    "collapsed": true,
    "jupyter": {
     "outputs_hidden": true
    }
   },
   "outputs": [
    {
     "data": {
      "text/plain": [
       "{'ResponseMetadata': {'RequestId': '7816A82502FC127A',\n",
       "  'HostId': 'oddZyS2mhrpTx/jVf0nAri2IssEf7C5oXdlICwEO8v6ZuLdW6YN+S5FTCesizcSu9lhWVV4lxsM=',\n",
       "  'HTTPStatusCode': 200,\n",
       "  'HTTPHeaders': {'x-amz-id-2': 'oddZyS2mhrpTx/jVf0nAri2IssEf7C5oXdlICwEO8v6ZuLdW6YN+S5FTCesizcSu9lhWVV4lxsM=',\n",
       "   'x-amz-request-id': '7816A82502FC127A',\n",
       "   'date': 'Tue, 25 Aug 2020 03:40:58 GMT',\n",
       "   'etag': '\"a5e7fe9a7d960dc6a5472893336143bd\"',\n",
       "   'content-length': '0',\n",
       "   'server': 'AmazonS3'},\n",
       "  'RetryAttempts': 0},\n",
       " 'ETag': '\"a5e7fe9a7d960dc6a5472893336143bd\"'}"
      ]
     },
     "execution_count": 74,
     "metadata": {},
     "output_type": "execute_result"
    }
   ],
   "source": [
    "# upload to the above to s3 (4 data sets)\n",
    "s3 = boto3.client('s3')\n",
    "s3.put_object(Bucket='inroads-test-bucket1',Key='data/labeled_data.csv', Body= predicted_dict_df.to_csv())"
   ]
  },
  {
   "cell_type": "code",
   "execution_count": null,
   "metadata": {},
   "outputs": [
    {
     "name": "stdout",
     "output_type": "stream",
     "text": [
      "CPU times: user 119 ms, sys: 0 ns, total: 119 ms\n",
      "Wall time: 398 ms\n"
     ]
    }
   ],
   "source": [
    "%%time\n",
    "result=kmeans_predictor.predict(train_data)"
   ]
  },
  {
   "cell_type": "code",
   "execution_count": null,
   "metadata": {},
   "outputs": [
    {
     "data": {
      "text/plain": [
       "float32_tensor {\n",
       "  values: 4.0\n",
       "}"
      ]
     },
     "execution_count": 53,
     "metadata": {},
     "output_type": "execute_result"
    }
   ],
   "source": [
    "result[0].label['closest_cluster']"
   ]
  },
  {
   "cell_type": "code",
   "execution_count": 215,
   "metadata": {},
   "outputs": [],
   "source": [
    "cluster_labels = [r.label['closest_cluster'].float32_tensor.values[0] for r in result]"
   ]
  },
  {
   "cell_type": "code",
   "execution_count": 216,
   "metadata": {},
   "outputs": [
    {
     "data": {
      "text/plain": [
       "1.0    35\n",
       "5.0    26\n",
       "4.0    13\n",
       "2.0    10\n",
       "6.0     9\n",
       "3.0     4\n",
       "8.0     2\n",
       "7.0     1\n",
       "Name: 0, dtype: int64"
      ]
     },
     "execution_count": 216,
     "metadata": {},
     "output_type": "execute_result"
    }
   ],
   "source": [
    "pd.DataFrame(cluster_labels)[0].value_counts()"
   ]
  },
  {
   "cell_type": "code",
   "execution_count": 217,
   "metadata": {},
   "outputs": [
    {
     "data": {
      "image/png": "[encoded data removed]",
      "text/plain": [
       "<Figure size 432x216 with 1 Axes>"
      ]
     },
     "metadata": {
      "needs_background": "light"
     },
     "output_type": "display_data"
    }
   ],
   "source": [
    "import matplotlib.pyplot as plt\n",
    "import seaborn as sns\n",
    "\n",
    "ax=plt.subplots(figsize=(6,3))\n",
    "ax=sns.distplot(cluster_labels, kde=False)\n",
    "title=\"Histogram of Cluster Counts\"\n",
    "ax.set_title(title, fontsize=12)\n",
    "plt.show()"
   ]
  },
  {
   "cell_type": "code",
   "execution_count": 9,
   "metadata": {
    "collapsed": true,
    "jupyter": {
     "outputs_hidden": true
    }
   },
   "outputs": [
    {
     "ename": "AttributeError",
     "evalue": "'NoneType' object has no attribute 'name'",
     "output_type": "error",
     "traceback": [
      "\u001b[0;31m---------------------------------------------------------------------------\u001b[0m",
      "\u001b[0;31mAttributeError\u001b[0m                            Traceback (most recent call last)",
      "\u001b[0;32m<ipython-input-9-9dc8bc0b7644>\u001b[0m in \u001b[0;36m<module>\u001b[0;34m\u001b[0m\n\u001b[1;32m      1\u001b[0m \u001b[0;32mimport\u001b[0m \u001b[0mos\u001b[0m\u001b[0;34m\u001b[0m\u001b[0;34m\u001b[0m\u001b[0m\n\u001b[1;32m      2\u001b[0m \u001b[0;34m\u001b[0m\u001b[0m\n\u001b[0;32m----> 3\u001b[0;31m \u001b[0mjob_name\u001b[0m \u001b[0;34m=\u001b[0m \u001b[0mkmeans\u001b[0m\u001b[0;34m.\u001b[0m\u001b[0mlatest_training_job\u001b[0m\u001b[0;34m.\u001b[0m\u001b[0mname\u001b[0m\u001b[0;34m\u001b[0m\u001b[0;34m\u001b[0m\u001b[0m\n\u001b[0m\u001b[1;32m      4\u001b[0m \u001b[0mmodel_key\u001b[0m \u001b[0;34m=\u001b[0m \u001b[0;34m\"kmeans/\"\u001b[0m \u001b[0;34m+\u001b[0m \u001b[0mjob_name\u001b[0m \u001b[0;34m+\u001b[0m \u001b[0;34m\"/output/model.tar.gz\"\u001b[0m\u001b[0;34m\u001b[0m\u001b[0;34m\u001b[0m\u001b[0m\n\u001b[1;32m      5\u001b[0m \u001b[0;34m\u001b[0m\u001b[0m\n",
      "\u001b[0;31mAttributeError\u001b[0m: 'NoneType' object has no attribute 'name'"
     ]
    }
   ],
   "source": [
    "import os\n",
    "\n",
    "job_name = kmeans.latest_training_job.name\n",
    "model_key = \"kmeans/\" + job_name + \"/output/model.tar.gz\"\n",
    "\n",
    "boto3.resource('s3').Bucket(bucket).download_file(model_key, 'model.tar.gz')\n",
    "os.system('tar -zxvf model.tar.gz')"
   ]
  },
  {
   "cell_type": "code",
   "execution_count": 219,
   "metadata": {
    "collapsed": true,
    "jupyter": {
     "outputs_hidden": true
    }
   },
   "outputs": [
    {
     "name": "stdout",
     "output_type": "stream",
     "text": [
      "Requirement already satisfied: mxnet in /home/ec2-user/anaconda3/envs/python3/lib/python3.6/site-packages (1.6.0)\n",
      "Requirement already satisfied: graphviz<0.9.0,>=0.8.1 in /home/ec2-user/anaconda3/envs/python3/lib/python3.6/site-packages (from mxnet) (0.8.4)\n",
      "Requirement already satisfied: numpy<2.0.0,>1.16.0 in /home/ec2-user/anaconda3/envs/python3/lib/python3.6/site-packages (from mxnet) (1.18.1)\n",
      "Requirement already satisfied: requests<3,>=2.20.0 in /home/ec2-user/anaconda3/envs/python3/lib/python3.6/site-packages (from mxnet) (2.23.0)\n",
      "Requirement already satisfied: urllib3!=1.25.0,!=1.25.1,<1.26,>=1.21.1 in /home/ec2-user/anaconda3/envs/python3/lib/python3.6/site-packages (from requests<3,>=2.20.0->mxnet) (1.25.8)\n",
      "Requirement already satisfied: chardet<4,>=3.0.2 in /home/ec2-user/anaconda3/envs/python3/lib/python3.6/site-packages (from requests<3,>=2.20.0->mxnet) (3.0.4)\n",
      "Requirement already satisfied: certifi>=2017.4.17 in /home/ec2-user/anaconda3/envs/python3/lib/python3.6/site-packages (from requests<3,>=2.20.0->mxnet) (2020.6.20)\n",
      "Requirement already satisfied: idna<3,>=2.5 in /home/ec2-user/anaconda3/envs/python3/lib/python3.6/site-packages (from requests<3,>=2.20.0->mxnet) (2.9)\n",
      "\u001b[33mWARNING: You are using pip version 20.0.2; however, version 20.2.2 is available.\n",
      "You should consider upgrading via the '/home/ec2-user/anaconda3/envs/python3/bin/python -m pip install --upgrade pip' command.\u001b[0m\n"
     ]
    }
   ],
   "source": [
    "!pip install mxnet\n",
    "import mxnet as mx\n",
    "\n",
    "Kmeans_model_params = mx.ndarray.load('model_algo-1')"
   ]
  },
  {
   "cell_type": "code",
   "execution_count": null,
   "metadata": {},
   "outputs": [],
   "source": [
    "## REMEMBER TO CLOSE SESSION!"
   ]
  },
  {
   "cell_type": "code",
   "execution_count": 13,
   "metadata": {
    "collapsed": true,
    "jupyter": {
     "outputs_hidden": true
    }
   },
   "outputs": [
    {
     "ename": "NameError",
     "evalue": "name 'kmeans_predictor' is not defined",
     "output_type": "error",
     "traceback": [
      "\u001b[0;31m---------------------------------------------------------------------------\u001b[0m",
      "\u001b[0;31mNameError\u001b[0m                                 Traceback (most recent call last)",
      "\u001b[0;32m<ipython-input-13-1306f7c7aaf2>\u001b[0m in \u001b[0;36m<module>\u001b[0;34m\u001b[0m\n\u001b[1;32m      1\u001b[0m \u001b[0;32mimport\u001b[0m \u001b[0msagemaker\u001b[0m\u001b[0;34m\u001b[0m\u001b[0;34m\u001b[0m\u001b[0m\n\u001b[0;32m----> 2\u001b[0;31m \u001b[0msagemaker\u001b[0m\u001b[0;34m.\u001b[0m\u001b[0mSession\u001b[0m\u001b[0;34m(\u001b[0m\u001b[0;34m)\u001b[0m\u001b[0;34m.\u001b[0m\u001b[0mdelete_endpoint\u001b[0m\u001b[0;34m(\u001b[0m\u001b[0mkmeans_predictor\u001b[0m\u001b[0;34m.\u001b[0m\u001b[0mendpoint\u001b[0m\u001b[0;34m)\u001b[0m\u001b[0;34m\u001b[0m\u001b[0;34m\u001b[0m\u001b[0m\n\u001b[0m",
      "\u001b[0;31mNameError\u001b[0m: name 'kmeans_predictor' is not defined"
     ]
    }
   ],
   "source": [
    "import sagemaker\n",
    "sagemaker.Session().delete_endpoint(kmeans_predictor.endpoint)"
   ]
  },
  {
   "cell_type": "code",
   "execution_count": null,
   "metadata": {},
   "outputs": [],
   "source": []
  }
 ],
 "metadata": {
  "kernelspec": {
   "display_name": "conda_python3",
   "language": "python",
   "name": "conda_python3"
  },
  "language_info": {
   "codemirror_mode": {
    "name": "ipython",
    "version": 3
   },
   "file_extension": ".py",
   "mimetype": "text/x-python",
   "name": "python",
   "nbconvert_exporter": "python",
   "pygments_lexer": "ipython3",
   "version": "3.6.10"
  }
 },
 "nbformat": 4,
 "nbformat_minor": 4
}
